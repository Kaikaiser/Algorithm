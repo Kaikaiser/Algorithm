{
 "cells": [
  {
   "cell_type": "markdown",
   "metadata": {},
   "source": [
    "## algorithm design and anlysis-2025 spring  homework 2\n",
    "**Deadline**：2025.5.14\n",
    "\n",
    "**name**:\n",
    "\n",
    "\n",
    "note：\n",
    "---\n",
    "1. 带有\\*的题目，申请免上课的同学，必须完成，其他同学选作；\n",
    "2. 请独立完成，如求助了他人或者大模型，请著明，并且不可省略算法分析部分；\n",
    "4. 如若作答有雷同，全部取消成绩；\n",
    "3. 需要书面作答的题目，可以通过引用图片的形式添加，但是注意上传项目时包含所引用的图片的源文件；\n",
    "4. $log_n$ 默认表示$log_2{n}$;"
   ]
  },
  {
   "cell_type": "markdown",
   "metadata": {},
   "source": [
    "## 问题 1  \n",
    "\n",
    "> 给定一个已排序的链表的头 `head` ， *删除所有重复的元素，使每个元素只出现一次* 。返回 *已排序的链表* 。链表的类如下所示：\n",
    "\n",
    "```python\n",
    "class NodeList:\n",
    "    def __init__(self, val=None, right=None):\n",
    "        self.val   = val\n",
    "        self.right = right\n",
    "```\n",
    "\n",
    "输入是一个数组，你首先需要将数组转化为链表，然后删除链表中的重复元素，再遍历链表元素，以一个数组的形式返回。请设计一个算法解决上述任务，分析算法设计思路，计算时间复杂度, 并基于python编程实现。\n",
    "\n",
    "e.g.  输入：head=[1, 1, 2, 3, 3]   输出：[1, 2, 3]\n",
    "\n",
    "![image-20240502110020439](./fig/hw2q1.png)\n",
    "\n"
   ]
  },
  {
   "cell_type": "markdown",
   "metadata": {},
   "source": [
    "idea：先将数组转化为链表，遍历删除重复值，再转换为数组"
   ]
  },
  {
   "cell_type": "code",
   "execution_count": 1,
   "metadata": {},
   "outputs": [
    {
     "name": "stdout",
     "output_type": "stream",
     "text": [
      "输入数组: [1, 2, 3, 3]\n",
      "输出数组: [1, 2, 3]\n"
     ]
    }
   ],
   "source": [
    "#algorithm time complexity is: O(n)\n",
    "def Task(inputArr):\n",
    "    class NodeList:\n",
    "        def __init__(self, val=None, right=None):\n",
    "            self.val = val\n",
    "            self.right = right\n",
    "\n",
    "    def a2l(arr):\n",
    "        if not arr:\n",
    "            return None\n",
    "        head = NodeList(arr[0])\n",
    "        p = head\n",
    "        for val in arr:\n",
    "            p.right = NodeList(val)\n",
    "            p = p.right\n",
    "        return head\n",
    "\n",
    "    def l2a(head):\n",
    "        arr = []\n",
    "        p = head\n",
    "        while p:\n",
    "            arr.append(p.val)\n",
    "            p = p.right\n",
    "        return arr\n",
    "\n",
    "    def deleteNode(head):\n",
    "        if not head:\n",
    "            return None\n",
    "        p = head\n",
    "        while p and p.right:\n",
    "            if p.val==p.right.val:\n",
    "                p.right=p.right.right # 如果节点相等，跳过重复节点\n",
    "            else:\n",
    "                p=p.right  # 节点不相等，移动到下一个节点\n",
    "        return head\n",
    "    List = a2l(inputArr)\n",
    "    processedList = deleteNode(List)\n",
    "    return l2a(processedList)\n",
    "    \n",
    "    \n",
    "# 测试\n",
    "inputArr = [1, 2, 3, 3]\n",
    "print(\"输入数组:\", inputArr)\n",
    "print(\"输出数组:\", Task(inputArr))  # 结果 [1, 2, 3]"
   ]
  },
  {
   "cell_type": "markdown",
   "metadata": {},
   "source": [
    "## 问题 2  \n",
    "\n",
    "> 下面是一个经典的算法问题：\n",
    ">\n",
    "> - 给定包含n个整数的一个整数数组 `nums` 和一个整数目标值 `target`，请你在该数组中找出 **和为目标值** *`target`* 的那 **两个** 整数，并返回它们的**数组下标**。假设每种输入只会对应一个答案。但是，数组中同一个元素在答案里不能重复出现。你可以按任意顺序返回答案。\n",
    ">\n",
    "> 由于要多次查找数组中元素的位置，为了提高查询效率可以使用哈希表来存储数组中的数据，在哈希表中查询一个元素的复杂度为O(1)。 已知python中的字典是使用哈希表实现的，即使用`dict[key]`查询对应的value时间复杂度为O(1), python提供了查询字典是否包含某个key的功能：`key in dict`，时间复杂度也是O(1)\n",
    "\n",
    "请根据上面信息，设计一个时间复杂度为O(n) 的算法，解决上述算法问题\n",
    "\n",
    "e.g.   \n",
    "\n",
    "输入：nums=[2,7,11,15], target=9， 输出：[0，1]\n",
    "\n",
    "输入：nums=[3,2,4], target=6, 输出：[1,2]\n",
    "\n",
    "输入：nums=[3,3], target=6,  输出：[0,1]\n"
   ]
  },
  {
   "cell_type": "markdown",
   "metadata": {},
   "source": [
    "idea :利用哈希表中的find功能，找到flag=target-arr[i]，遍历即可"
   ]
  },
  {
   "cell_type": "code",
   "execution_count": 3,
   "metadata": {
    "scrolled": true
   },
   "outputs": [
    {
     "name": "stdout",
     "output_type": "stream",
     "text": [
      "[0, 1]\n",
      "[1, 2]\n",
      "[0, 1]\n"
     ]
    }
   ],
   "source": [
    "# your algorithm time complexity is: O(n)\n",
    "def findTwo(arr, target):\n",
    "    hash_map={} #使用{}或者dict()来创建哈希表\n",
    "    length=len(arr)\n",
    "    for i in range(0,length):\n",
    "        flag=target-arr[i]\n",
    "        if flag in hash_map:\n",
    "            return [hash_map[flag],i]\n",
    "        hash_map[arr[i]]=i\n",
    "    return None\n",
    "\n",
    "#测试\n",
    "arr=[2,7,11,15]\n",
    "target=9\n",
    "print(findTwo(arr,target)) #输出[0, 1]\n",
    "\n",
    "arr=[3,2,4]\n",
    "target=6\n",
    "print(findTwo(arr,target)) #输出[1,2]\n",
    "\n",
    "arr=[3,3]\n",
    "target=6\n",
    "print(findTwo(arr,target)) #输出[0, 1]"
   ]
  },
  {
   "cell_type": "markdown",
   "metadata": {},
   "source": [
    "## 问题 3:   \n",
    "\n",
    "> 栈是一种常用的数据结构，编译器中通常使用栈来实现表达式求值。\n",
    ">\n",
    "> 以表达式 $3+5 \\times 8-6$​ 为例。编译器使用两个栈来完成运算，即一个栈保持操作数，另一个栈保存运算符。\n",
    ">\n",
    "> 1. 从左向右遍历表达式，遇到数字就压入操作数栈；\n",
    ">\n",
    "> 2. 遇到运算符，就与运算符栈的栈顶元素进行比较。如果比运算符栈顶元素的优先级高，就将当前运算符压入栈；如果比运算符栈顶元素的优先级低或者相同，从运算符栈中取栈顶运算符，从操作数栈的栈顶取 2 个操作数，然后进行计算，再把计算完的结果压入操作数栈，继续比较。\n",
    ">\n",
    "> 下图是 $3+5 \\times 8-6$  这个表达式的计算过程：\n",
    "\n",
    "![figure](./fig/hw2q3.png)\n",
    "\n",
    "根据上述原理，请设计一个算法完成表达式的运算，当输入为表达式字符串，返回对应的计算结果。分析算法设计思路，计算时间复杂度，并基于python编程实现\n",
    "\n",
    "**note：**\n",
    "\n",
    "1. 假设输入的表达式只会出现加（“+”），减 “-”， 乘“*”，除 “/” 四个运算符, 表达式中只会出现正整数\n",
    "2. python中` str.isdigit()`函数可以判断字符串str是否为数字，\n",
    "\n",
    "\n",
    "\n",
    "e.g. :\n",
    "---\n",
    "\n",
    "1. 输入：“$3+5 * 8 -6$”   输出：37\n",
    "\n",
    "2. 输入：“$34+13*9 + 44-12/3$”  输出：191"
   ]
  },
  {
   "cell_type": "markdown",
   "metadata": {},
   "source": [
    "idea：如图所示，构建两个栈，一个存放运算符，一个存放数字，+-*/使用数字进行优先级设置，注意判断多位数字符串转为数字的情况"
   ]
  },
  {
   "cell_type": "code",
   "execution_count": 4,
   "metadata": {},
   "outputs": [
    {
     "name": "stdout",
     "output_type": "stream",
     "text": [
      "3+5*8-6 = 37\n",
      "34+13*9+44-12/3 = 191\n"
     ]
    }
   ],
   "source": [
    "# algorithm time complexity is: O(n)\n",
    "def figureString(string):\n",
    "    def charKey(c):\n",
    "        if c in '+-':\n",
    "            return 1\n",
    "        elif c in '*/':\n",
    "            return 2\n",
    "        return 0\n",
    "    \n",
    "    def useOperator(operators,numbers):\n",
    "        a=numbers.pop()\n",
    "        b=numbers.pop()\n",
    "        operator=operators.pop()\n",
    "        if operator == '+': \n",
    "            numbers.append(b + a)\n",
    "        elif operator == '-': \n",
    "            numbers.append(b - a)\n",
    "        elif operator == '*': \n",
    "            numbers.append(b * a)\n",
    "        elif operator == '/': \n",
    "            numbers.append(b // a)#//为整除，/为浮点数运算\n",
    "            \n",
    "    \n",
    "    operators=[]\n",
    "    numbers=[]\n",
    "    i=0\n",
    "    while i<len(string):\n",
    "        if string[i].isdigit():\n",
    "            num=0\n",
    "            while i<len(string) and string[i].isdigit():#考虑数字>10的情况\n",
    "                num =num*10+int(string[i])\n",
    "                i=i+1\n",
    "            numbers.append(num)\n",
    "            continue\n",
    "        while operators and charKey(string[i])<=charKey(operators[-1]):\n",
    "            useOperator(operators,numbers)\n",
    "        operators.append(string[i])\n",
    "        i=i+1\n",
    "            \n",
    "    while operators:\n",
    "        useOperator(operators,numbers)\n",
    "    \n",
    "    return numbers[0]\n",
    "\n",
    "#测试\n",
    "A=\"3+5*8-6\"\n",
    "print(\"3+5*8-6 =\", figureString(A))\n",
    "\n",
    "B=\"34+13*9+44-12/3\"\n",
    "print(\"34+13*9+44-12/3 =\", figureString(B))"
   ]
  },
  {
   "cell_type": "markdown",
   "metadata": {},
   "source": [
    "## 问题 4:  \n",
    "\n",
    "> 星球碰撞问题：现有n个星球，在同一条直线上运行，如数组A所示，元素的绝对值表示星球的质量，负数表示星球自右向左运动，正数表示星球自左向右运动，当两个星球相撞的时候，质量小的会消失，大的保持不变，**质量相同的两个星球碰撞后自右向左运动的星球消失，自左向右的星球保持不变**，假设所有星球的速度大小相同。\n",
    ">\n",
    "> $ A=[23,-8, 9, -3, -7, 9, -23, 22] $\n",
    "\n",
    "请设计一个算法模拟星球的运行情况，输出最终的星球存续情况（输出一个数组），分析算法设计思路，计算时间复杂度，并基于python编程实现。\n",
    "\n",
    "e.g.\n",
    "---\n",
    "1.  输入： A=[-3,-6,2,8, 5,-8,9,-2,1]， 输出：[-3, -6, 2, 8, 9, 1]\n",
    "\n",
    "2. 输入：A=[23,-8, 9, -3, -7, 9, -23, 22], 输出：[23, 22]\n",
    "\n"
   ]
  },
  {
   "cell_type": "markdown",
   "metadata": {},
   "source": [
    "idea:首先分析入栈情况：空，大于0，栈顶小于0和入栈数小于零可以直接入栈，再考虑碰撞情况"
   ]
  },
  {
   "cell_type": "code",
   "execution_count": 6,
   "metadata": {},
   "outputs": [
    {
     "name": "stdout",
     "output_type": "stream",
     "text": [
      "增加星球： -3 现有星球： [-3]\n",
      "增加星球： -6 现有星球： [-3, -6]\n",
      "增加星球： 2 现有星球： [-3, -6, 2]\n",
      "增加星球： 8 现有星球： [-3, -6, 2, 8]\n",
      "增加星球： 5 现有星球： [-3, -6, 2, 8, 5]\n",
      "增加星球： -8 进行相撞\n",
      "星球相撞后现有星球： [-3, -6, 2, 8]\n",
      "增加星球： 9 现有星球： [-3, -6, 2, 8, 9]\n",
      "增加星球： 1 现有星球： [-3, -6, 2, 8, 9, 1]\n",
      "存活星球： [-3, -6, 2, 8, 9, 1]\n",
      "[-3, -6, 2, 8, 9, 1]\n",
      "增加星球： 23 现有星球： [23]\n",
      "增加星球： 9 现有星球： [23, 9]\n",
      "增加星球： 9 现有星球： [23, 9, 9]\n",
      "增加星球： -23 进行相撞\n",
      "星球相撞后现有星球： [23, 9]\n",
      "增加星球： -23 进行相撞\n",
      "星球相撞后现有星球： [23]\n",
      "增加星球： 22 现有星球： [23, 22]\n",
      "存活星球： [23, 22]\n",
      "[23, 22]\n"
     ]
    }
   ],
   "source": [
    "# algorithm time complexity is: O(n~2)\n",
    "def planet(arr):\n",
    "    stack=[]\n",
    "    flag=1\n",
    "    for i in range(0, len(arr)):\n",
    "        #空，大于0，栈顶小于0和入栈数小于零\n",
    "        if arr[i]>0 or not stack or stack[-1]<0:\n",
    "            stack.append(arr[i])\n",
    "            print(\"增加星球：\", arr[i], \"现有星球：\", stack)\n",
    "            continue\n",
    "        \n",
    "        while stack and stack[-1]>0:\n",
    "            top=stack[-1]\n",
    "            if top+arr[i]>=0:\n",
    "                flag=2\n",
    "                break\n",
    "            else:\n",
    "                a=stack[-1]\n",
    "                stack.pop()\n",
    "                print(\"增加星球：\", arr[i], \"进行相撞\")\n",
    "                print(\"星球相撞后现有星球：\", stack)\n",
    "        if flag==1:\n",
    "            stack.append(arr[i])\n",
    "            print(\"增加星球：\", arr[i], \"现有星球：\", stack)\n",
    "    print(\"存活星球：\",stack)\n",
    "    return stack\n",
    "            \n",
    "#测试\n",
    "A=[-3,-6,2,8,5,-8,9,-2,1]\n",
    "print(planet(A))\n",
    "\n",
    "B=[23,-8, 9, -3, -7, 9, -23, 22]\n",
    "print(planet(B))"
   ]
  },
  {
   "cell_type": "markdown",
   "metadata": {},
   "source": [
    "## 问题 5 \n",
    "\n",
    "> 给定一个无序数组nums=[9,-3,-10,0,9,7,33]，请建立一个二叉搜索树存储数组中的所有元素，之后删除二叉树中的元素“0”，再使用中序遍历输出二叉搜索树中的所有元素。\n",
    "\n",
    "使用python编程完成上述任务，并计算时间复杂度\n"
   ]
  },
  {
   "cell_type": "markdown",
   "metadata": {},
   "source": [
    "idea：\n",
    "    1.先构建搜索二叉树：注意始终满足左子树小于根，右子树大于根\n",
    "    2.遍历删除二叉树元素\n",
    "    3.中序遍历是按照 左子树->根节点->右子树 的顺序进行遍历 即进行排序\n",
    "不足：增加树高"
   ]
  },
  {
   "cell_type": "code",
   "execution_count": 8,
   "metadata": {},
   "outputs": [
    {
     "name": "stdout",
     "output_type": "stream",
     "text": [
      "BST构建成功！！！\n",
      "成功删除元素： 0\n",
      "遍历节点： -10\n",
      "遍历节点： -3\n",
      "遍历节点： 7\n",
      "遍历节点： 9\n",
      "遍历节点： 9\n",
      "遍历节点： 33\n",
      "中序遍历输出： [-10, -3, 7, 9, 9, 33]\n"
     ]
    }
   ],
   "source": [
    "# algorithm time complexity is: O(logn)\n",
    "def Task(nums):\n",
    "    class TreeNode:\n",
    "        def __init__(self, val=None, left=None, right=None):\n",
    "            self.val = val\n",
    "            self.left = left\n",
    "            self.right = right\n",
    "    \n",
    "    #递归插入\n",
    "    def insertNode(tree, num):\n",
    "        if not tree:\n",
    "            tree=TreeNode(num)\n",
    "            return tree\n",
    "        if num<tree.val:\n",
    "            tree.left=insertNode(tree.left, num)\n",
    "        else:\n",
    "            tree.right=insertNode(tree.right, num)\n",
    "        return tree\n",
    "    #构建二叉树\n",
    "    def buildBST(nums):\n",
    "        tree=None\n",
    "        for num in nums:\n",
    "            tree=insertNode(tree, num)\n",
    "        print(\"BST构建成功！！！\")\n",
    "        return tree\n",
    "    \n",
    "    def delete(tree, flag):\n",
    "        p=tree\n",
    "        pre = None\n",
    "        a=0\n",
    "        while p:\n",
    "            if p.val>flag:\n",
    "                pre=p\n",
    "                a=1 #前继为左子树\n",
    "                p=p.left\n",
    "            elif p.val<flag:\n",
    "                pre=p\n",
    "                a=2 #前继为右子树\n",
    "                p=p.right\n",
    "            elif p.val==flag:\n",
    "                if a==1:\n",
    "                    if not p.left:\n",
    "                        pre.left=p.right\n",
    "                    else:\n",
    "                        temp=p.left\n",
    "                        #判断左子树的最右节点\n",
    "                        while temp.right:\n",
    "                            temp=temp.right\n",
    "                        temp.right=p.right\n",
    "                        pre.left=p.left\n",
    "                if a==2:\n",
    "                    if not p.left:\n",
    "                        pre.right=p.right\n",
    "                    else:\n",
    "                        temp=p.left\n",
    "                        while temp.right:\n",
    "                            temp=temp.right\n",
    "                        temp.right=p.right\n",
    "                        pre.right=p.left\n",
    "                if a==0:\n",
    "                    #当删除节点为根节点\n",
    "                    if not p.left:\n",
    "                        tree=p.right\n",
    "                    else:\n",
    "                        temp=p.left\n",
    "                        #判断左子树的最右节点\n",
    "                        while temp.right:\n",
    "                            temp=temp.right\n",
    "                        temp.right=p.right\n",
    "                        tree=p.left\n",
    "                print(\"成功删除元素：\",flag)\n",
    "                #当删除多个相同数字\n",
    "                tree=delete(tree,flag)\n",
    "                return tree\n",
    "        \n",
    "        return tree\n",
    "        \n",
    "    def inorder(tree):\n",
    "        if not tree:\n",
    "            return tree\n",
    "        \n",
    "        inorder(tree.left)\n",
    "        print(\"遍历节点：\", tree.val)\n",
    "        result.append(tree.val)\n",
    "        inorder(tree.right)\n",
    "            \n",
    "            \n",
    "    tree=buildBST(nums)\n",
    "    tree=delete(tree,0)\n",
    "    result=  []\n",
    "    inorder(tree)\n",
    "    return result \n",
    "            \n",
    "            \n",
    "    \n",
    "    \n",
    "#测试\n",
    "nums=[9,-3,-10,0,9,7,33]\n",
    "print(\"中序遍历输出：\", Task(nums))"
   ]
  },
  {
   "cell_type": "markdown",
   "metadata": {},
   "source": [
    "## 问题 6  \n",
    "\n",
    "> 给定一个包含大写字母和小写字母的字符串 s ，返回 字符串包含的 **最长的回文子串的长度** 。请注意 区分大小写 。比如 \"Aa\" 不能当做一个回文字符串。\n",
    ">\n",
    "\n",
    "请设计一个算法解决上述问题，只需要输出最长回文子串的长度，分析算法设计思路，计算时间复杂度，并基于python编程实现\n",
    "\n",
    "e.g. 输入： s=\"adccaccd\"，  输出：7。 最长回文子串为：\"dccaccd\", 长度为7\n"
   ]
  },
  {
   "cell_type": "markdown",
   "metadata": {},
   "source": [
    "idea：使用中心扩展法，遍历字符串，每个字符为一个中心向两边进行扩展，计算匹配的长度\n",
    "另外：题中给出的是奇数回文串，以下再给出考虑偶数回文串的版本 s=\"adccaaccd\"， 输出：8"
   ]
  },
  {
   "cell_type": "code",
   "execution_count": 12,
   "metadata": {},
   "outputs": [
    {
     "name": "stdout",
     "output_type": "stream",
     "text": [
      "奇数： 7\n"
     ]
    }
   ],
   "source": [
    "#lgorithm time complexity is:O(n~2)\n",
    "def longestStr(string):\n",
    "    #匹配字符\n",
    "    def match(left,right):\n",
    "        while left>=0 and right<len(string):\n",
    "            if string[left]==string[right]:\n",
    "                left-=1\n",
    "                right+=1\n",
    "            else:\n",
    "                break\n",
    "        return right-left-1\n",
    "            \n",
    "    maxLen=0\n",
    "    flag=0\n",
    "    for i in range(0, len(string)):\n",
    "        #求解奇数回文串\n",
    "        flag=match(i,i)\n",
    "        maxLen=max(maxLen,flag)\n",
    "    return maxLen\n",
    "#测试\n",
    "A=\"adccaccd\"\n",
    "print(\"奇数：\", longestStr(A))"
   ]
  },
  {
   "cell_type": "code",
   "execution_count": 13,
   "metadata": {},
   "outputs": [
    {
     "name": "stdout",
     "output_type": "stream",
     "text": [
      "奇数： 7\n",
      "偶数： 8\n"
     ]
    }
   ],
   "source": [
    "#以下代码考虑偶数回文串 s=\"adccaaccd\"， 输出：8\n",
    "def longestStr(string):\n",
    "    #匹配字符\n",
    "    def match(left,right):\n",
    "        while left>=0 and right<len(string):\n",
    "            if string[left]==string[right]:\n",
    "                left-=1\n",
    "                right+=1\n",
    "            else:\n",
    "                break\n",
    "        return right-left-1\n",
    "            \n",
    "    maxLen=0\n",
    "    flag=0\n",
    "    for i in range(0, len(string)):\n",
    "        #求解奇数回文串\n",
    "        odd=match(i,i)\n",
    "        #求解偶数回文串\n",
    "        even=match(i,i+1)\n",
    "        flag=max(odd,even)\n",
    "        maxLen=max(maxLen,flag)\n",
    "    return maxLen\n",
    "#测试\n",
    "A_odd=\"adccaccd\"\n",
    "print(\"奇数：\", longestStr(A_odd))\n",
    "A_even=\"adccaaccd\"\n",
    "print(\"偶数：\", longestStr(A_even))"
   ]
  },
  {
   "cell_type": "markdown",
   "metadata": {},
   "source": [
    "## 问题 7 \n",
    "\n",
    "> 沿一条长河流分散着n座房子。你可以把这条河想象成一条轴，房子是由它们在这条轴上的坐标按顺序排列的。你的公司想在河边的特定地点设置手机基站，这样每户人家都在距离基站4公里的范围内。输入可以看作为一个升序数组，数组元素的取值为大于等于0的正整数，你需要输出最小基站的数目，基站的位置。\n",
    "\n",
    "1. 给出一个时间复杂度为$O(n$) 的算法，使所使用的基站数量最小化，分析算法设计思路，使用python编程实现\n",
    "2. 证明1.中算法产生了最优解决方案。\n",
    "\n",
    "e.g. \n",
    "\n",
    "输入： [1, 5, 12, 33, 34,35]  输出：基站数目为3， 基站位置为[1，12，33]\n",
    "\n"
   ]
  },
  {
   "cell_type": "markdown",
   "metadata": {},
   "source": [
    "idea： 1.排序\n",
    "     2.使用贪心算法，每次选择当前未被覆盖的最左侧房子，将基站设在该位置，尽可能覆盖右侧最多的房子。\n",
    "     3.确定当前基站能覆盖的最远房子，跳过这些已覆盖的房子，继续处理下一个未被覆盖的房子。\n",
    "该算法确保每次选择最优，从而得到最优结果。"
   ]
  },
  {
   "cell_type": "code",
   "execution_count": 14,
   "metadata": {},
   "outputs": [
    {
     "name": "stdout",
     "output_type": "stream",
     "text": [
      "基站数目： 3\n",
      "基站位置： [1, 12, 33]\n"
     ]
    }
   ],
   "source": [
    "# algorithm time complexity is:O(n)\n",
    "def minStations(nums):\n",
    "    stations=[]\n",
    "    i=0\n",
    "    j=0\n",
    "    while i<len(nums):\n",
    "        #选择最左边的房子\n",
    "        now=nums[i]\n",
    "        stations.append(now)\n",
    "        while j<len(nums) and nums[j]<=now+4:\n",
    "            j=j+1      \n",
    "        i=j\n",
    "    return len(stations), stations\n",
    "\n",
    "\n",
    "        \n",
    "#测试\n",
    "A=[1, 5, 12, 33, 34,35]\n",
    "num, stations=minStations(A)\n",
    "print(\"基站数目：\",num)\n",
    "print(\"基站位置：\",stations)"
   ]
  },
  {
   "cell_type": "markdown",
   "metadata": {},
   "source": [
    "证明：贪心算法无法从正面证明他是最优解，但是很明显，使用枚举法也无法找到比以上解更好的情况，所以1中就是最优解"
   ]
  },
  {
   "cell_type": "markdown",
   "metadata": {},
   "source": [
    "## 问题 8  \n",
    "\n",
    "> 给定由n个正整数组成的一个集合$S = \\{a_1, a_2，···，a_n\\}$和一个正整数W，设计一个算法确定是否存在S的一个子集 $K \\subseteq S$, 使K中所有数之和为 $W$, 如果存在返回“True”，否则返回“False”\n",
    "\n",
    "请设计一个时间复杂度为$O(nW)$动态规划算法，解决上述问题，分析算法的设计思路，并且基于python编程实现（不需要输出子集）。\n",
    "\n",
    "e.g. \n",
    "\n",
    "输入：S = {1,4,7,3,5}， W = 11，输出：True。   因为K可以是{4,7}。\n",
    "\n"
   ]
  },
  {
   "cell_type": "markdown",
   "metadata": {},
   "source": [
    "idea：该问题使用动态规划解决。\n",
    "     1.定义布尔数组 dp[j]，其中 dp[j] 表示是否存在和为 j 的子集。初始定义dp[0] = True（空集和为0）。\n",
    "     2.遍历集合中的每个元素 num，从后向前更新 dp 数组：若 num > W，跳过（不可能选中）。否则，对于每个 j 从 W 倒序遍历到 num，若 dp[j - num] 为 True，则标记 dp[j] 为 True。直到更新后 dp[W] 为 True，直接返回结果。"
   ]
  },
  {
   "cell_type": "code",
   "execution_count": 15,
   "metadata": {},
   "outputs": [
    {
     "name": "stdout",
     "output_type": "stream",
     "text": [
      "{1, 3, 4, 5, 7} 集合中是否存在和为 11 的子集： True\n"
     ]
    }
   ],
   "source": [
    "# algorithm time complexity is: O(nW)\n",
    "def setSum(S, W):\n",
    "    S=list(S)#输入为set,set无法使用索引，先转换成list数组\n",
    "    dp=[False for _ in range(W+1)]#初始化W+1长度的数组，以便下标与和对应\n",
    "    dp[0]=True #空集始终存在\n",
    "    \n",
    "    for i in range(0, len(S)):\n",
    "        if W<S[i]:#当数组中的值大于求解值时，可以直接跳过，取不到\n",
    "            continue\n",
    "        for j in range(W, S[i]-1, -1):#-1为倒着遍历，S[i]-1左闭右开，以便取到S[i]\n",
    "            if dp[j-S[i]]:\n",
    "                if j==W:#True的情况下判断j是否为W,是则直接退出\n",
    "                    return True\n",
    "                dp[j]=True\n",
    "    return False\n",
    "#测试\n",
    "S = {1,4,7,3,5}\n",
    "W = 11\n",
    "print(S,\"集合中是否存在和为\",W,\"的子集：\", setSum(S, W))"
   ]
  },
  {
   "cell_type": "markdown",
   "metadata": {},
   "source": [
    "\n",
    "\n",
    "## 问题 9 \n",
    "\n",
    "> 给定一个n个物品的集合。物体的重量为$w_1, w_2，…、w_n$，物品的价值分别是$v_1、v_2、…v_n$。给你**两个**重量为 $c$ 的背包。如果你带了一个东西，它可以放在一个背包里，也可以放在另一个背包里，但不能同时放在两个背包里。所有权重和价值都是正整数。\n",
    "\n",
    "1. 设计一个时间复杂度为 $O(nc^2)$ 的动态规划算法，确定可以放入两个背包的物体的最大价值。分析算法设计思路，并基于python编程实现\n",
    "2. \\* 修改1中的算法，输出每个背包的内容（物品对应下标）。\n",
    "\n",
    "e.g.: \n",
    "\n",
    "输入 V=[1,3,2,5,8,7], W=[1,3,2,5,8,7], c=7, 输出：最大价值=14，背包装的物品为：[6] [4，3] （同一个背包中物品装入顺序对结果无影响）  \n"
   ]
  },
  {
   "cell_type": "markdown",
   "metadata": {},
   "source": [
    "idea：双背包问题：\n",
    "1.使用三维数组 定义一个三维数组 dp[i][j][k]，表示前 i 个物品中，第一个背包的重量为 j，第二个背包的重量为 k 时的最大价值。\n",
    "2.状态转移方程为：对于第 i 个物品，有三种选择：\n",
    "                    不放入任何背包：dp[i][j][k] = dp[i-1][j][k]\n",
    "                    放入第一个背包：如果 j >= w[i]，则 dp[i][j][k] = max(dp[i-1][j][k], dp[i-1][j - w[i]][k] + v[i])\n",
    "                    放入第二个背包：如果 k >= w[i]，则 dp[i][j][k] = max(dp[i-1][j][k], dp[i-1][j][k - w[i]] + v[i])\n",
    "3.定义初始条件dp[0][0][0] = 0，表示没有物品时，两个背包都是空的。\n",
    "4.使用回溯法，通过回溯路径，输出每个背包的物品，使用一个三维数组 path[i][j][k] 来记录每个状态下的选择。其中0表示不放入任何背包，1表示放入第一个背包，2表示放入第二个背包。"
   ]
  },
  {
   "cell_type": "code",
   "execution_count": 16,
   "metadata": {},
   "outputs": [
    {
     "name": "stdout",
     "output_type": "stream",
     "text": [
      "最大价值: 14\n",
      "第一个背包的物品: [6]\n",
      "第二个背包的物品: [4, 3]\n"
     ]
    }
   ],
   "source": [
    "# algorithm time complexity is: O(nc2)\n",
    "def twoBags(V, W, c):\n",
    "    n = len(V)\n",
    "    # 初始化 dp[i][j][k] 和 path[i][j][k] 数组\n",
    "    dp = [[[0 for _ in range(c+1)] for __ in range(c+1)] for ___ in range(n+1)]\n",
    "    path = [[[-1 for _ in range(c+1)] for __ in range(c+1)] for ___ in range(n+1)]\n",
    "    \n",
    "    for i in range(1, n+1):\n",
    "        w = W[i-1]\n",
    "        v = V[i-1]\n",
    "        for j in range(c+1):\n",
    "            for k in range(c+1):\n",
    "                # 放入第一个背包\n",
    "                if j >= W[i-1] and dp[i-1][j -  W[i-1]][k] + V[i-1] > dp[i][j][k]:\n",
    "                    dp[i][j][k] = dp[i-1][j -  W[i-1]][k] + V[i-1]\n",
    "                    path[i][j][k] = 1\n",
    "                    \n",
    "                    # 放入第二个背包\n",
    "                elif k >= W[i-1] and dp[i-1][j][k - W[i-1]] + V[i-1] > dp[i][j][k]:\n",
    "                    dp[i][j][k] = dp[i-1][j][k - W[i-1]] + V[i-1]\n",
    "                    path[i][j][k] = 2\n",
    "                else:\n",
    "                    # 不放入任何背包\n",
    "                    dp[i][j][k] = dp[i-1][j][k]\n",
    "                    path[i][j][k] = 0\n",
    "                    \n",
    "                # 不考虑同时满足j>=W[i-1]和k>=W[i-1] 取两者最优的情况，因为需要列出所有的可能，不是只取当前最优\n",
    "    \n",
    "    maxValue = 0\n",
    "    bestj = 0\n",
    "    bestk = 0\n",
    "    for j in range(1, c+1):\n",
    "        for k in range(1, c+1):\n",
    "            if dp[n][j][k] > maxValue:\n",
    "                maxValue = dp[n][j][k]\n",
    "                bestj = j\n",
    "                bestk = k\n",
    "    \n",
    "    # 回溯找到每个背包的内容\n",
    "    firstBag = []\n",
    "    secondBag = []\n",
    "    j, k = bestj, bestk\n",
    "    for i in range(n, 0, -1):\n",
    "        if path[i][j][k] == 1:\n",
    "            #直接加入，i对应物品编号\n",
    "            firstBag.append(i)\n",
    "            j =j- W[i-1]\n",
    "        elif path[i][j][k] == 2:\n",
    "            secondBag.append(i)\n",
    "            k =k- W[i-1]\n",
    "    \n",
    "    return maxValue, firstBag, secondBag\n",
    "\n",
    "# 测试\n",
    "V = [1, 3, 2, 5, 8, 7]\n",
    "W = [1, 3, 2, 5, 8, 7]\n",
    "c = 7\n",
    "maxValue, firstBag, secondBag = twoBags(V, W, c)\n",
    "print(\"最大价值:\", maxValue)\n",
    "print(\"第一个背包的物品:\", firstBag)\n",
    "print(\"第二个背包的物品:\", secondBag)"
   ]
  },
  {
   "cell_type": "markdown",
   "metadata": {},
   "source": [
    "## 问题 10 \n",
    "\n",
    "> 给定两个字符串 $x[1..n]$ 和 $y[1..m]$，我们想通过以下操作将 $x$ 变换为 $y$ :\n",
    ">\n",
    "> **插入**：在 $x$ 中插入一个字符(在任何位置)；**删除**：从 $x$ 中删除一个字符(在任何位置)； **替换**：用另一个字符替换 $x$ 中的一个字符。\n",
    ">\n",
    "> 例如: $x = abcd$, $y = bcfe$，\n",
    ">\n",
    "> - 将 $x$ 转换为 $y$ 的一种可能方法是：1. 删除 $x$ 开头的 $a$, $x$变成 $bcd$； 2. 将 $x$ 中的字符 $d$ 替换为字符 $f$。$x$ 变成 $bcf$； 3. 在 $x$ 的末尾插入字符 $e$。$x$ 变成 $bcfe$。\n",
    ">\n",
    "> - 另一种可能的方法：1. 删除 $x$ 开头的 $a$,  $x$ 变成 $bcd$； 2. 在 $x$ 中字符 $d$ 之前插入字符 $f$。$x$ 变成 $bcfd$。3. 将 $x$ 中的字符 $d$ 替换为字符 $e$。$x$ 变成 $bcfe$。\n",
    "\n",
    "设计一个时间复杂度为 $O(mn)$ 的算法，返回将 $x$ 转换为 $y$ 所需的最少操作次数。分析算法设计思路，并基于python编程实现。\n"
   ]
  },
  {
   "cell_type": "markdown",
   "metadata": {},
   "source": [
    "idea：采用动态规划方法。\n",
    "1.构建一个二维数组dp，其中dp[i][j]表示将字符串x的前i个字符转换为字符串y的前j个字符所需的最少操作次数。\n",
    "2.状态转移方程：如果x[i-1] == y[j-1]（字符匹配）：dp[i][j]=min(dp[i−1][j]+1,dp[i][j−1]+1,dp[i−1][j−1])\n",
    "           如果x[i-1] != y[j-1]（字符不匹配）：dp[i][j]=min(dp[i−1][j]+1,dp[i][j−1]+1,dp[i−1][j−1]+1)\n",
    "           删除：从x删除第i个字符，操作数加1，对应dp[i-1][j] + 1\n",
    "           插入：在x插入y的第j个字符，操作数加1，对应dp[i][j-1] + 1\n",
    "           替换：将x的第i个字符替换为y的第j个字符，若字符不同则操作数加1，对应dp[i-1][j-1]+1\n",
    "3.初始化: dp[0][j] = j：将空字符串转换为y的前j个字符，需插入j次。\n",
    "       dp[i][0] = i：将x的前i个字符转换为空字符串，需删除i次。"
   ]
  },
  {
   "cell_type": "code",
   "execution_count": 17,
   "metadata": {},
   "outputs": [
    {
     "name": "stdout",
     "output_type": "stream",
     "text": [
      "A字符串转化为B字符串最少操作次数为： 3\n"
     ]
    }
   ],
   "source": [
    "# add your idea here\n",
    "# your algorithm time complexity is: O(mn)\n",
    "def minOperate(A,B):\n",
    "    len1=len(A)\n",
    "    len2=len(B)\n",
    "    dp=[[0]*(len2+1) for _ in range(0,len1+1)]\n",
    "    #初始化数组\n",
    "    for i in range(1, len1+1):\n",
    "        dp[i][0]=i\n",
    "    for j in range(1, len2+1):\n",
    "        dp[0][j]=j\n",
    "        \n",
    "    for i in range(1,len1+1):\n",
    "        for j in range(1, len2+1):\n",
    "            if A[i-1]==B[j-1]:\n",
    "                #说明匹配成功\n",
    "                dp[i][j]=dp[i-1][j-1]\n",
    "            else:\n",
    "                dp[i][j]=min(dp[i-1][j-1]+1, dp[i][j-1]+1, dp[i-1][j]+1)\n",
    "    \n",
    "    \n",
    "    return dp[len1][len2]\n",
    "    \n",
    "    \n",
    "#测试\n",
    "A=\"abcd\"\n",
    "B=\"bcfe\"\n",
    "print(\"A字符串转化为B字符串最少操作次数为：\", minOperate(A,B))"
   ]
  },
  {
   "cell_type": "code",
   "execution_count": null,
   "metadata": {},
   "outputs": [],
   "source": []
  }
 ],
 "metadata": {
  "kernelspec": {
   "display_name": "Python 3",
   "language": "python",
   "name": "python3"
  },
  "language_info": {
   "codemirror_mode": {
    "name": "ipython",
    "version": 3
   },
   "file_extension": ".py",
   "mimetype": "text/x-python",
   "name": "python",
   "nbconvert_exporter": "python",
   "pygments_lexer": "ipython3",
   "version": "3.6.5"
  }
 },
 "nbformat": 4,
 "nbformat_minor": 2
}
